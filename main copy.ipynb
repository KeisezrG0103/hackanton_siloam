{
 "cells": [
  {
   "cell_type": "code",
   "execution_count": 68,
   "id": "346ec5db",
   "metadata": {},
   "outputs": [
    {
     "name": "stderr",
     "output_type": "stream",
     "text": [
      "I0000 00:00:1753944123.081905   46508 fork_posix.cc:71] Other threads are currently calling into gRPC, skipping fork() handlers\n"
     ]
    },
    {
     "name": "stdout",
     "output_type": "stream",
     "text": [
      "Requirement already satisfied: pydantic_settings in /home/nicholas12345/PYEnv/lib/python3.12/site-packages (2.10.1)\n",
      "Requirement already satisfied: langchain in /home/nicholas12345/PYEnv/lib/python3.12/site-packages (0.3.27)\n",
      "Requirement already satisfied: langchain-core in /home/nicholas12345/PYEnv/lib/python3.12/site-packages (0.3.72)\n",
      "Requirement already satisfied: langchain-google-genai in /home/nicholas12345/PYEnv/lib/python3.12/site-packages (2.1.8)\n",
      "Requirement already satisfied: langchain-qdrant in /home/nicholas12345/PYEnv/lib/python3.12/site-packages (0.2.0)\n",
      "Requirement already satisfied: fastembed in /home/nicholas12345/PYEnv/lib/python3.12/site-packages (0.7.1)\n",
      "Requirement already satisfied: langchain-community in /home/nicholas12345/PYEnv/lib/python3.12/site-packages (0.3.27)\n",
      "Requirement already satisfied: qdrant-client in /home/nicholas12345/PYEnv/lib/python3.12/site-packages (1.15.0)\n",
      "Requirement already satisfied: langgraph in /home/nicholas12345/PYEnv/lib/python3.12/site-packages (0.6.2)\n",
      "Requirement already satisfied: pydantic>=2.7.0 in /home/nicholas12345/PYEnv/lib/python3.12/site-packages (from pydantic_settings) (2.10.4)\n",
      "Requirement already satisfied: python-dotenv>=0.21.0 in /home/nicholas12345/PYEnv/lib/python3.12/site-packages (from pydantic_settings) (1.0.1)\n",
      "Requirement already satisfied: typing-inspection>=0.4.0 in /home/nicholas12345/PYEnv/lib/python3.12/site-packages (from pydantic_settings) (0.4.1)\n",
      "Requirement already satisfied: langchain-text-splitters<1.0.0,>=0.3.9 in /home/nicholas12345/PYEnv/lib/python3.12/site-packages (from langchain) (0.3.9)\n",
      "Requirement already satisfied: langsmith>=0.1.17 in /home/nicholas12345/PYEnv/lib/python3.12/site-packages (from langchain) (0.4.8)\n",
      "Requirement already satisfied: SQLAlchemy<3,>=1.4 in /home/nicholas12345/PYEnv/lib/python3.12/site-packages (from langchain) (2.0.36)\n",
      "Requirement already satisfied: requests<3,>=2 in /home/nicholas12345/PYEnv/lib/python3.12/site-packages (from langchain) (2.32.3)\n",
      "Requirement already satisfied: PyYAML>=5.3 in /home/nicholas12345/PYEnv/lib/python3.12/site-packages (from langchain) (6.0.2)\n",
      "Requirement already satisfied: tenacity!=8.4.0,<10.0.0,>=8.1.0 in /home/nicholas12345/PYEnv/lib/python3.12/site-packages (from langchain-core) (9.0.0)\n",
      "Requirement already satisfied: jsonpatch<2.0,>=1.33 in /home/nicholas12345/PYEnv/lib/python3.12/site-packages (from langchain-core) (1.33)\n",
      "Requirement already satisfied: typing-extensions>=4.7 in /home/nicholas12345/PYEnv/lib/python3.12/site-packages (from langchain-core) (4.12.2)\n",
      "Requirement already satisfied: packaging>=23.2 in /home/nicholas12345/PYEnv/lib/python3.12/site-packages (from langchain-core) (24.2)\n",
      "Requirement already satisfied: filetype<2.0.0,>=1.2.0 in /home/nicholas12345/PYEnv/lib/python3.12/site-packages (from langchain-google-genai) (1.2.0)\n",
      "Requirement already satisfied: google-ai-generativelanguage<0.7.0,>=0.6.18 in /home/nicholas12345/PYEnv/lib/python3.12/site-packages (from langchain-google-genai) (0.6.18)\n",
      "Requirement already satisfied: huggingface-hub<1.0,>=0.20 in /home/nicholas12345/PYEnv/lib/python3.12/site-packages (from fastembed) (0.27.0)\n",
      "Requirement already satisfied: loguru<0.8.0,>=0.7.2 in /home/nicholas12345/PYEnv/lib/python3.12/site-packages (from fastembed) (0.7.3)\n",
      "Requirement already satisfied: mmh3<6.0.0,>=4.1.0 in /home/nicholas12345/PYEnv/lib/python3.12/site-packages (from fastembed) (5.2.0)\n",
      "Requirement already satisfied: numpy>=1.26 in /home/nicholas12345/PYEnv/lib/python3.12/site-packages (from fastembed) (1.26.4)\n",
      "Requirement already satisfied: onnxruntime!=1.20.0,>=1.17.0 in /home/nicholas12345/PYEnv/lib/python3.12/site-packages (from fastembed) (1.22.1)\n",
      "Requirement already satisfied: pillow<12.0.0,>=10.3.0 in /home/nicholas12345/PYEnv/lib/python3.12/site-packages (from fastembed) (11.0.0)\n",
      "Requirement already satisfied: py-rust-stemmers<0.2.0,>=0.1.0 in /home/nicholas12345/PYEnv/lib/python3.12/site-packages (from fastembed) (0.1.5)\n",
      "Requirement already satisfied: tokenizers<1.0,>=0.15 in /home/nicholas12345/PYEnv/lib/python3.12/site-packages (from fastembed) (0.21.0)\n",
      "Requirement already satisfied: tqdm<5.0,>=4.66 in /home/nicholas12345/PYEnv/lib/python3.12/site-packages (from fastembed) (4.67.1)\n",
      "Requirement already satisfied: aiohttp<4.0.0,>=3.8.3 in /home/nicholas12345/PYEnv/lib/python3.12/site-packages (from langchain-community) (3.12.15)\n",
      "Requirement already satisfied: dataclasses-json<0.7,>=0.5.7 in /home/nicholas12345/PYEnv/lib/python3.12/site-packages (from langchain-community) (0.6.7)\n",
      "Requirement already satisfied: httpx-sse<1.0.0,>=0.4.0 in /home/nicholas12345/PYEnv/lib/python3.12/site-packages (from langchain-community) (0.4.1)\n",
      "Requirement already satisfied: grpcio>=1.41.0 in /home/nicholas12345/PYEnv/lib/python3.12/site-packages (from qdrant-client) (1.74.0)\n",
      "Requirement already satisfied: httpx>=0.20.0 in /home/nicholas12345/PYEnv/lib/python3.12/site-packages (from httpx[http2]>=0.20.0->qdrant-client) (0.28.1)\n",
      "Requirement already satisfied: portalocker<4.0,>=2.7.0 in /home/nicholas12345/PYEnv/lib/python3.12/site-packages (from qdrant-client) (3.2.0)\n",
      "Requirement already satisfied: protobuf>=3.20.0 in /home/nicholas12345/PYEnv/lib/python3.12/site-packages (from qdrant-client) (6.31.1)\n",
      "Requirement already satisfied: urllib3<3,>=1.26.14 in /home/nicholas12345/PYEnv/lib/python3.12/site-packages (from qdrant-client) (2.2.3)\n",
      "Requirement already satisfied: langgraph-checkpoint<3.0.0,>=2.1.0 in /home/nicholas12345/PYEnv/lib/python3.12/site-packages (from langgraph) (2.1.1)\n",
      "Requirement already satisfied: langgraph-prebuilt<0.7.0,>=0.6.0 in /home/nicholas12345/PYEnv/lib/python3.12/site-packages (from langgraph) (0.6.2)\n",
      "Requirement already satisfied: langgraph-sdk<0.3.0,>=0.2.0 in /home/nicholas12345/PYEnv/lib/python3.12/site-packages (from langgraph) (0.2.0)\n",
      "Requirement already satisfied: xxhash>=3.5.0 in /home/nicholas12345/PYEnv/lib/python3.12/site-packages (from langgraph) (3.5.0)\n",
      "Requirement already satisfied: aiohappyeyeballs>=2.5.0 in /home/nicholas12345/PYEnv/lib/python3.12/site-packages (from aiohttp<4.0.0,>=3.8.3->langchain-community) (2.6.1)\n",
      "Requirement already satisfied: aiosignal>=1.4.0 in /home/nicholas12345/PYEnv/lib/python3.12/site-packages (from aiohttp<4.0.0,>=3.8.3->langchain-community) (1.4.0)\n",
      "Requirement already satisfied: attrs>=17.3.0 in /home/nicholas12345/PYEnv/lib/python3.12/site-packages (from aiohttp<4.0.0,>=3.8.3->langchain-community) (25.3.0)\n",
      "Requirement already satisfied: frozenlist>=1.1.1 in /home/nicholas12345/PYEnv/lib/python3.12/site-packages (from aiohttp<4.0.0,>=3.8.3->langchain-community) (1.7.0)\n",
      "Requirement already satisfied: multidict<7.0,>=4.5 in /home/nicholas12345/PYEnv/lib/python3.12/site-packages (from aiohttp<4.0.0,>=3.8.3->langchain-community) (6.6.3)\n",
      "Requirement already satisfied: propcache>=0.2.0 in /home/nicholas12345/PYEnv/lib/python3.12/site-packages (from aiohttp<4.0.0,>=3.8.3->langchain-community) (0.3.2)\n",
      "Requirement already satisfied: yarl<2.0,>=1.17.0 in /home/nicholas12345/PYEnv/lib/python3.12/site-packages (from aiohttp<4.0.0,>=3.8.3->langchain-community) (1.20.1)\n",
      "Requirement already satisfied: marshmallow<4.0.0,>=3.18.0 in /home/nicholas12345/PYEnv/lib/python3.12/site-packages (from dataclasses-json<0.7,>=0.5.7->langchain-community) (3.26.1)\n",
      "Requirement already satisfied: typing-inspect<1,>=0.4.0 in /home/nicholas12345/PYEnv/lib/python3.12/site-packages (from dataclasses-json<0.7,>=0.5.7->langchain-community) (0.9.0)\n",
      "Requirement already satisfied: google-api-core!=2.0.*,!=2.1.*,!=2.10.*,!=2.2.*,!=2.3.*,!=2.4.*,!=2.5.*,!=2.6.*,!=2.7.*,!=2.8.*,!=2.9.*,<3.0.0,>=1.34.1 in /home/nicholas12345/PYEnv/lib/python3.12/site-packages (from google-api-core[grpc]!=2.0.*,!=2.1.*,!=2.10.*,!=2.2.*,!=2.3.*,!=2.4.*,!=2.5.*,!=2.6.*,!=2.7.*,!=2.8.*,!=2.9.*,<3.0.0,>=1.34.1->google-ai-generativelanguage<0.7.0,>=0.6.18->langchain-google-genai) (2.25.1)\n",
      "Requirement already satisfied: google-auth!=2.24.0,!=2.25.0,<3.0.0,>=2.14.1 in /home/nicholas12345/PYEnv/lib/python3.12/site-packages (from google-ai-generativelanguage<0.7.0,>=0.6.18->langchain-google-genai) (2.40.3)\n",
      "Requirement already satisfied: proto-plus<2.0.0,>=1.22.3 in /home/nicholas12345/PYEnv/lib/python3.12/site-packages (from google-ai-generativelanguage<0.7.0,>=0.6.18->langchain-google-genai) (1.26.1)\n",
      "Requirement already satisfied: anyio in /home/nicholas12345/PYEnv/lib/python3.12/site-packages (from httpx>=0.20.0->httpx[http2]>=0.20.0->qdrant-client) (4.7.0)\n",
      "Requirement already satisfied: certifi in /home/nicholas12345/PYEnv/lib/python3.12/site-packages (from httpx>=0.20.0->httpx[http2]>=0.20.0->qdrant-client) (2024.12.14)\n",
      "Requirement already satisfied: httpcore==1.* in /home/nicholas12345/PYEnv/lib/python3.12/site-packages (from httpx>=0.20.0->httpx[http2]>=0.20.0->qdrant-client) (1.0.7)\n",
      "Requirement already satisfied: idna in /home/nicholas12345/PYEnv/lib/python3.12/site-packages (from httpx>=0.20.0->httpx[http2]>=0.20.0->qdrant-client) (3.10)\n",
      "Requirement already satisfied: h11<0.15,>=0.13 in /home/nicholas12345/PYEnv/lib/python3.12/site-packages (from httpcore==1.*->httpx>=0.20.0->httpx[http2]>=0.20.0->qdrant-client) (0.14.0)\n",
      "Requirement already satisfied: h2<5,>=3 in /home/nicholas12345/PYEnv/lib/python3.12/site-packages (from httpx[http2]>=0.20.0->qdrant-client) (4.2.0)\n",
      "Requirement already satisfied: filelock in /home/nicholas12345/PYEnv/lib/python3.12/site-packages (from huggingface-hub<1.0,>=0.20->fastembed) (3.16.1)\n",
      "Requirement already satisfied: fsspec>=2023.5.0 in /home/nicholas12345/PYEnv/lib/python3.12/site-packages (from huggingface-hub<1.0,>=0.20->fastembed) (2024.10.0)\n",
      "Requirement already satisfied: jsonpointer>=1.9 in /home/nicholas12345/PYEnv/lib/python3.12/site-packages (from jsonpatch<2.0,>=1.33->langchain-core) (3.0.0)\n",
      "Requirement already satisfied: ormsgpack>=1.10.0 in /home/nicholas12345/PYEnv/lib/python3.12/site-packages (from langgraph-checkpoint<3.0.0,>=2.1.0->langgraph) (1.10.0)\n",
      "Requirement already satisfied: orjson>=3.10.1 in /home/nicholas12345/PYEnv/lib/python3.12/site-packages (from langgraph-sdk<0.3.0,>=0.2.0->langgraph) (3.11.1)\n",
      "Requirement already satisfied: requests-toolbelt<2.0.0,>=1.0.0 in /home/nicholas12345/PYEnv/lib/python3.12/site-packages (from langsmith>=0.1.17->langchain) (1.0.0)\n",
      "Requirement already satisfied: zstandard<0.24.0,>=0.23.0 in /home/nicholas12345/PYEnv/lib/python3.12/site-packages (from langsmith>=0.1.17->langchain) (0.23.0)\n",
      "Requirement already satisfied: coloredlogs in /home/nicholas12345/PYEnv/lib/python3.12/site-packages (from onnxruntime!=1.20.0,>=1.17.0->fastembed) (15.0.1)\n",
      "Requirement already satisfied: flatbuffers in /home/nicholas12345/PYEnv/lib/python3.12/site-packages (from onnxruntime!=1.20.0,>=1.17.0->fastembed) (24.3.25)\n",
      "Requirement already satisfied: sympy in /home/nicholas12345/PYEnv/lib/python3.12/site-packages (from onnxruntime!=1.20.0,>=1.17.0->fastembed) (1.13.3)\n",
      "Requirement already satisfied: annotated-types>=0.6.0 in /home/nicholas12345/PYEnv/lib/python3.12/site-packages (from pydantic>=2.7.0->pydantic_settings) (0.7.0)\n",
      "Requirement already satisfied: pydantic-core==2.27.2 in /home/nicholas12345/PYEnv/lib/python3.12/site-packages (from pydantic>=2.7.0->pydantic_settings) (2.27.2)\n",
      "Requirement already satisfied: charset-normalizer<4,>=2 in /home/nicholas12345/PYEnv/lib/python3.12/site-packages (from requests<3,>=2->langchain) (3.4.0)\n",
      "Requirement already satisfied: greenlet!=0.4.17 in /home/nicholas12345/PYEnv/lib/python3.12/site-packages (from SQLAlchemy<3,>=1.4->langchain) (3.1.1)\n",
      "Requirement already satisfied: googleapis-common-protos<2.0.0,>=1.56.2 in /home/nicholas12345/PYEnv/lib/python3.12/site-packages (from google-api-core!=2.0.*,!=2.1.*,!=2.10.*,!=2.2.*,!=2.3.*,!=2.4.*,!=2.5.*,!=2.6.*,!=2.7.*,!=2.8.*,!=2.9.*,<3.0.0,>=1.34.1->google-api-core[grpc]!=2.0.*,!=2.1.*,!=2.10.*,!=2.2.*,!=2.3.*,!=2.4.*,!=2.5.*,!=2.6.*,!=2.7.*,!=2.8.*,!=2.9.*,<3.0.0,>=1.34.1->google-ai-generativelanguage<0.7.0,>=0.6.18->langchain-google-genai) (1.70.0)\n",
      "Requirement already satisfied: grpcio-status<2.0.0,>=1.33.2 in /home/nicholas12345/PYEnv/lib/python3.12/site-packages (from google-api-core[grpc]!=2.0.*,!=2.1.*,!=2.10.*,!=2.2.*,!=2.3.*,!=2.4.*,!=2.5.*,!=2.6.*,!=2.7.*,!=2.8.*,!=2.9.*,<3.0.0,>=1.34.1->google-ai-generativelanguage<0.7.0,>=0.6.18->langchain-google-genai) (1.74.0)\n",
      "Requirement already satisfied: cachetools<6.0,>=2.0.0 in /home/nicholas12345/PYEnv/lib/python3.12/site-packages (from google-auth!=2.24.0,!=2.25.0,<3.0.0,>=2.14.1->google-ai-generativelanguage<0.7.0,>=0.6.18->langchain-google-genai) (5.5.2)\n",
      "Requirement already satisfied: pyasn1-modules>=0.2.1 in /home/nicholas12345/PYEnv/lib/python3.12/site-packages (from google-auth!=2.24.0,!=2.25.0,<3.0.0,>=2.14.1->google-ai-generativelanguage<0.7.0,>=0.6.18->langchain-google-genai) (0.4.2)\n",
      "Requirement already satisfied: rsa<5,>=3.1.4 in /home/nicholas12345/PYEnv/lib/python3.12/site-packages (from google-auth!=2.24.0,!=2.25.0,<3.0.0,>=2.14.1->google-ai-generativelanguage<0.7.0,>=0.6.18->langchain-google-genai) (4.9.1)\n",
      "Requirement already satisfied: hyperframe<7,>=6.1 in /home/nicholas12345/PYEnv/lib/python3.12/site-packages (from h2<5,>=3->httpx[http2]>=0.20.0->qdrant-client) (6.1.0)\n",
      "Requirement already satisfied: hpack<5,>=4.1 in /home/nicholas12345/PYEnv/lib/python3.12/site-packages (from h2<5,>=3->httpx[http2]>=0.20.0->qdrant-client) (4.1.0)\n",
      "Requirement already satisfied: mypy-extensions>=0.3.0 in /home/nicholas12345/PYEnv/lib/python3.12/site-packages (from typing-inspect<1,>=0.4.0->dataclasses-json<0.7,>=0.5.7->langchain-community) (1.1.0)\n",
      "Requirement already satisfied: sniffio>=1.1 in /home/nicholas12345/PYEnv/lib/python3.12/site-packages (from anyio->httpx>=0.20.0->httpx[http2]>=0.20.0->qdrant-client) (1.3.1)\n",
      "Requirement already satisfied: humanfriendly>=9.1 in /home/nicholas12345/PYEnv/lib/python3.12/site-packages (from coloredlogs->onnxruntime!=1.20.0,>=1.17.0->fastembed) (10.0)\n",
      "Requirement already satisfied: mpmath<1.4,>=1.1.0 in /home/nicholas12345/PYEnv/lib/python3.12/site-packages (from sympy->onnxruntime!=1.20.0,>=1.17.0->fastembed) (1.3.0)\n",
      "Requirement already satisfied: pyasn1<0.7.0,>=0.6.1 in /home/nicholas12345/PYEnv/lib/python3.12/site-packages (from pyasn1-modules>=0.2.1->google-auth!=2.24.0,!=2.25.0,<3.0.0,>=2.14.1->google-ai-generativelanguage<0.7.0,>=0.6.18->langchain-google-genai) (0.6.1)\n",
      "Note: you may need to restart the kernel to use updated packages.\n"
     ]
    }
   ],
   "source": [
    "%pip install pydantic_settings langchain langchain-core langchain-google-genai langchain-qdrant fastembed langchain-community qdrant-client langgraph"
   ]
  },
  {
   "cell_type": "code",
   "execution_count": 69,
   "id": "3c572ec1",
   "metadata": {},
   "outputs": [],
   "source": [
    "from pydantic_settings import BaseSettings, SettingsConfigDict\n",
    "\n",
    "class Settings(BaseSettings):\n",
    "    GOOGLE_API_KEY: str\n",
    "    model_config = SettingsConfigDict(env_file=\".env\")\n",
    "\n",
    "env = Settings()"
   ]
  },
  {
   "cell_type": "code",
   "execution_count": 70,
   "id": "3816d10f",
   "metadata": {},
   "outputs": [],
   "source": [
    "from langchain_google_genai import GoogleGenerativeAIEmbeddings\n",
    "\n",
    "embeddings_2 = GoogleGenerativeAIEmbeddings(model=\"models/gemini-embedding-001\", google_api_key=env.GOOGLE_API_KEY)"
   ]
  },
  {
   "cell_type": "code",
   "execution_count": 71,
   "id": "c2af04e7",
   "metadata": {},
   "outputs": [],
   "source": [
    "from qdrant_client.http.models import Distance\n",
    "\n",
    "collection_name = \"mcu_packages\"\n",
    "dimension = 3072\n",
    "distance = Distance.COSINE"
   ]
  },
  {
   "cell_type": "markdown",
   "id": "d25c7696",
   "metadata": {},
   "source": [
    "# Create Vector Data"
   ]
  },
  {
   "cell_type": "code",
   "execution_count": 72,
   "id": "3db8f2a9",
   "metadata": {},
   "outputs": [
    {
     "name": "stdout",
     "output_type": "stream",
     "text": [
      "{'id': '5eae0017-40dd-4961-869f-79d9e45d87f2', 'name': 'Adventia Emilia Krysna Sipi Seda, M.M., M.Psi., Psikolog', 'specialization_name': 'Psikologi', 'specialization_name_en': 'Psychology', 'sub_specialization_name': 'Psikolog', 'sub_specialization_name_en': 'Psychologist', 'hospital_name': 'Siloam Hospitals Yogyakarta'}\n"
     ]
    }
   ],
   "source": [
    "# load mcu.json data\n",
    "import json\n",
    "\n",
    "with open(\"doctors_final.json\", \"r\") as f:\n",
    "    mcu_data = json.load(f)\n",
    "\n",
    "print(mcu_data[0])"
   ]
  },
  {
   "cell_type": "code",
   "execution_count": 73,
   "id": "bae3fc7a",
   "metadata": {},
   "outputs": [],
   "source": [
    "# Optionally, you can use FastEmbed for embeddings\n",
    "# from langchain_community.embeddings.fastembed import FastEmbedEmbeddings\n",
    "# embeddings = FastEmbedEmbeddings(cache_dir=\"./embedding_cache\", model_name=\"jinaai/jina-embeddings-v2-base-en\")\n",
    "# # https://qdrant.github.io/fastembed/examples/Supported_Models/#supported-text-embedding-models"
   ]
  },
  {
   "cell_type": "code",
   "execution_count": 74,
   "id": "65d3797a",
   "metadata": {},
   "outputs": [],
   "source": [
    "from qdrant_client import QdrantClient\n",
    "\n",
    "client = QdrantClient(\":memory:\") "
   ]
  },
  {
   "cell_type": "code",
   "execution_count": 75,
   "id": "2deeb5c5",
   "metadata": {},
   "outputs": [],
   "source": [
    "from qdrant_client.http.models import VectorParams\n",
    "\n",
    "if(client.collection_exists(collection_name=collection_name) == False):\n",
    "    client.create_collection(\n",
    "        collection_name=collection_name,\n",
    "        vectors_config=VectorParams(size=dimension, distance=distance),\n",
    "    )"
   ]
  },
  {
   "cell_type": "code",
   "execution_count": 76,
   "id": "2b681ec1",
   "metadata": {},
   "outputs": [
    {
     "name": "stdout",
     "output_type": "stream",
     "text": [
      "Total specializations: 36\n",
      "Total doctors: 1000\n",
      "Psikologi: 8 doctors\n",
      "Kedokteran Umum: 126 doctors\n",
      "Kardiologi (Jantung): 52 doctors\n",
      "Bedah Umum: 35 doctors\n",
      "Obsteri dan Ginekologi (Kandungan): 74 doctors\n"
     ]
    }
   ],
   "source": [
    "\n",
    "import json\n",
    "from collections import defaultdict\n",
    "\n",
    "with open(\"doctors_final.json\", \"r\") as f:\n",
    "    mcu_data = json.load(f)\n",
    "\n",
    "\n",
    "specialization_groups = defaultdict(list)\n",
    "for doctor in mcu_data:\n",
    "    spec_key = doctor['specialization_name']\n",
    "    specialization_groups[spec_key].append(doctor)\n",
    "\n",
    "print(f\"Total specializations: {len(specialization_groups)}\")\n",
    "print(f\"Total doctors: {len(mcu_data)}\")\n",
    "\n",
    "\n",
    "for spec, doctors in list(specialization_groups.items())[:5]:\n",
    "    print(f\"{spec}: {len(doctors)} doctors\")"
   ]
  },
  {
   "cell_type": "code",
   "execution_count": 77,
   "id": "811854e5",
   "metadata": {},
   "outputs": [
    {
     "name": "stdout",
     "output_type": "stream",
     "text": [
      "Processing 36 specializations instead of 1000 individual doctors\n"
     ]
    },
    {
     "name": "stderr",
     "output_type": "stream",
     "text": [
      "Processing specializations: 100%|██████████| 36/36 [00:53<00:00,  1.47s/it, doctors_processed=1000, current_spec=Kedokteran Nuklir]     \n"
     ]
    },
    {
     "data": {
      "text/plain": [
       "(1000, 36)"
      ]
     },
     "execution_count": 77,
     "metadata": {},
     "output_type": "execute_result"
    }
   ],
   "source": [
    "from qdrant_client.models import PointStruct\n",
    "import uuid\n",
    "import time\n",
    "from tqdm import tqdm\n",
    "\n",
    "def create_optimized_embeddings():\n",
    "    \"\"\"Create embeddings grouped by specialization to reduce API calls\"\"\"\n",
    "    \n",
    "    specialization_groups = defaultdict(list)\n",
    "    for doctor in mcu_data:\n",
    "        spec_key = doctor['specialization_name']\n",
    "        specialization_groups[spec_key].append(doctor)\n",
    "    \n",
    "    total_specializations = len(specialization_groups)\n",
    "    print(f\"Processing {total_specializations} specializations instead of {len(mcu_data)} individual doctors\")\n",
    "    \n",
    "    processed_count = 0\n",
    "    \n",
    "    with tqdm(total=total_specializations, desc=\"Processing specializations\") as pbar:\n",
    "        for specialization, doctors in specialization_groups.items():\n",
    "            try:\n",
    "                doctor_names = [doc['name'] for doc in doctors]\n",
    "                hospitals = list(set([doc['hospital_name'] for doc in doctors]))\n",
    "                sub_specs = list(set([doc['sub_specialization_name'] for doc in doctors if doc['sub_specialization_name']]))\n",
    "                combined_text = f\"\"\"\n",
    "                Specialization: {specialization}\n",
    "                # all doctors in this specialization\n",
    "                Doctors: {', '.join(doctor_names)}\n",
    "                Sub-specializations: {', '.join(sub_specs)}\n",
    "                Hospitals: {', '.join(hospitals)}\n",
    "                Total doctors: {len(doctors)}\n",
    "                \"\"\".strip()\n",
    "                \n",
    "                emb = embeddings_2.embed_query(combined_text)\n",
    "                \n",
    "                points = []\n",
    "                for doctor in doctors:\n",
    "                    doctor_text = f\"Doctor: {doctor['name']}, Specialization: {specialization}, Hospital: {doctor['hospital_name']}\"\n",
    "                    \n",
    "                    points.append(\n",
    "                        PointStruct(\n",
    "                            id=str(uuid.uuid4()),\n",
    "                            vector=emb, \n",
    "                            payload={\n",
    "                                \"page_content\": doctor_text,\n",
    "                                \"metadata\": {\n",
    "                                    \"id\": doctor['id'],\n",
    "                                    \"name\": doctor['name'],\n",
    "                                    \"specialization_name\": doctor['specialization_name'],\n",
    "                                    \"sub_specialization_name\": doctor['sub_specialization_name'],\n",
    "                                    \"sub_specialization_name_en\": doctor.get('sub_specialization_name_en', ''),\n",
    "                                    \"hospital_name\": doctor['hospital_name'],\n",
    "                                    \"specialization_group\": specialization,\n",
    "                                    \"doctors_in_group\": len(doctors)\n",
    "                                },\n",
    "                            },\n",
    "                        )\n",
    "                    )\n",
    "                \n",
    "                client.upsert(collection_name=collection_name, points=points)\n",
    "                processed_count += len(doctors)\n",
    "                \n",
    "                pbar.set_postfix({\n",
    "                    'doctors_processed': processed_count,\n",
    "                    'current_spec': specialization[:20] + '...' if len(specialization) > 20 else specialization\n",
    "                })\n",
    "                pbar.update(1)\n",
    "                \n",
    "                time.sleep(1) \n",
    "                \n",
    "            except Exception as e:\n",
    "                print(f\"Error processing specialization {specialization}: {e}\")\n",
    "                print(\"Waiting 10 seconds before continuing...\")\n",
    "                time.sleep(10)\n",
    "                continue\n",
    "    return processed_count, total_specializations\n",
    "\n",
    "create_optimized_embeddings()"
   ]
  },
  {
   "cell_type": "markdown",
   "id": "f4101842",
   "metadata": {},
   "source": [
    "# Create Tool"
   ]
  },
  {
   "cell_type": "code",
   "execution_count": 78,
   "id": "e97bb1f9",
   "metadata": {},
   "outputs": [
    {
     "name": "stdout",
     "output_type": "stream",
     "text": [
      "tags=['QdrantVectorStore', 'GoogleGenerativeAIEmbeddings'] vectorstore=<langchain_qdrant.qdrant.QdrantVectorStore object at 0x7fa1d878d2e0> search_kwargs={}\n"
     ]
    }
   ],
   "source": [
    "from langchain_qdrant import QdrantVectorStore\n",
    "def get_retriever():\n",
    "\n",
    "    vector_store = QdrantVectorStore(\n",
    "        client=client,\n",
    "        collection_name=collection_name,\n",
    "        embedding=embeddings_2,\n",
    "    )\n",
    "    \n",
    "    return vector_store.as_retriever()\n",
    "\n",
    "print(get_retriever())"
   ]
  },
  {
   "cell_type": "code",
   "execution_count": 79,
   "id": "391cdd68",
   "metadata": {},
   "outputs": [],
   "source": [
    "from langchain_core.tools import tool\n",
    "from typing import Annotated, List\n",
    "\n",
    "@tool\n",
    "def search_doctor(query: Annotated[str, \"search query must contain keywords related to doctors\"]) -> List[str]:\n",
    "    \"\"\"Search for doctors by name or specialization.\"\"\"\n",
    "    retriever = get_retriever()\n",
    "    results = retriever.invoke(query, k=10)\n",
    "    print(results)\n",
    "    return [result.page_content for result in results]"
   ]
  },
  {
   "cell_type": "code",
   "execution_count": 80,
   "id": "07f77e08",
   "metadata": {},
   "outputs": [
    {
     "name": "stdout",
     "output_type": "stream",
     "text": [
      "[Document(metadata={'id': 'faf8d251-671c-463b-8f82-588d60d26a51', 'name': 'dr. Ade Rahmatdianto', 'specialization_name': 'Kedokteran Umum', 'sub_specialization_name': 'Dokter Umum', 'sub_specialization_name_en': 'General Practitioner', 'hospital_name': 'Siloam Hospitals Surabaya', 'specialization_group': 'Kedokteran Umum', 'doctors_in_group': 126, '_id': 'ad224cfe-1cb5-4768-8897-19c922a02dd7', '_collection_name': 'mcu_packages'}, page_content='Doctor: dr. Ade Rahmatdianto, Specialization: Kedokteran Umum, Hospital: Siloam Hospitals Surabaya'), Document(metadata={'id': '13978ca9-fe9d-46a7-9a59-10ad8d6b5e48', 'name': 'dr. Cindy Mayury', 'specialization_name': 'Kedokteran Umum', 'sub_specialization_name': 'Dokter Umum', 'sub_specialization_name_en': 'General Practitioner', 'hospital_name': 'Siloam Sriwijaya Palembang', 'specialization_group': 'Kedokteran Umum', 'doctors_in_group': 126, '_id': '7938ad35-c3b5-42bb-9c1f-6c95c12b5082', '_collection_name': 'mcu_packages'}, page_content='Doctor: dr. Cindy Mayury, Specialization: Kedokteran Umum, Hospital: Siloam Sriwijaya Palembang'), Document(metadata={'id': '30ca3ea6-46d5-4bd7-a6d0-541746d61517', 'name': 'dr. Catherine', 'specialization_name': 'Kedokteran Umum', 'sub_specialization_name': 'Dokter Umum', 'sub_specialization_name_en': 'General Practitioner', 'hospital_name': 'Siloam Hospitals Medan', 'specialization_group': 'Kedokteran Umum', 'doctors_in_group': 126, '_id': 'a5b07d37-3b12-46a5-80e9-3fed4b641dde', '_collection_name': 'mcu_packages'}, page_content='Doctor: dr. Catherine, Specialization: Kedokteran Umum, Hospital: Siloam Hospitals Medan'), Document(metadata={'id': '33dcd271-c6b0-464e-adc5-760ac6bdbe11', 'name': 'dr. Cathleen Kenya', 'specialization_name': 'Kedokteran Umum', 'sub_specialization_name': 'Dokter Umum', 'sub_specialization_name_en': 'General Practitioner', 'hospital_name': 'MRCCC Siloam Hospitals Semanggi', 'specialization_group': 'Kedokteran Umum', 'doctors_in_group': 126, '_id': '79f4c8a7-a4e0-4491-ac59-7480bd6f9e3f', '_collection_name': 'mcu_packages'}, page_content='Doctor: dr. Cathleen Kenya, Specialization: Kedokteran Umum, Hospital: MRCCC Siloam Hospitals Semanggi'), Document(metadata={'id': 'a674f50c-02c5-4a2a-86d4-d2cbbee44355', 'name': 'dr. Chow Joy Nathasa A , MH.Kes', 'specialization_name': 'Kedokteran Umum', 'sub_specialization_name': 'Dokter Umum', 'sub_specialization_name_en': 'General Practitioner', 'hospital_name': 'Siloam Hospitals Putera Bahagia', 'specialization_group': 'Kedokteran Umum', 'doctors_in_group': 126, '_id': '3b829f5e-0a7f-4f89-8c9c-982be0d57c9a', '_collection_name': 'mcu_packages'}, page_content='Doctor: dr. Chow Joy Nathasa A , MH.Kes, Specialization: Kedokteran Umum, Hospital: Siloam Hospitals Putera Bahagia'), Document(metadata={'id': '9bdd3581-1fdc-487c-ac79-d489dc7f78f3', 'name': 'dr. Christian Hendrikus Sorongan', 'specialization_name': 'Kedokteran Umum', 'sub_specialization_name': 'Dokter Umum', 'sub_specialization_name_en': 'General Practitioner', 'hospital_name': 'Siloam Hospitals Manado', 'specialization_group': 'Kedokteran Umum', 'doctors_in_group': 126, '_id': '3d4c9e1e-ca72-458f-8af4-359b95008398', '_collection_name': 'mcu_packages'}, page_content='Doctor: dr. Christian Hendrikus Sorongan, Specialization: Kedokteran Umum, Hospital: Siloam Hospitals Manado'), Document(metadata={'id': '2ca2b5d2-2212-4af8-a30a-a789c380fd5d', 'name': 'dr. Christina Valentin', 'specialization_name': 'Kedokteran Umum', 'sub_specialization_name': 'Dokter Umum', 'sub_specialization_name_en': 'General Practitioner', 'hospital_name': 'Siloam Hospitals TB Simatupang', 'specialization_group': 'Kedokteran Umum', 'doctors_in_group': 126, '_id': '15388f40-3dfb-4d3d-a0ae-fe82b13789c9', '_collection_name': 'mcu_packages'}, page_content='Doctor: dr. Christina Valentin, Specialization: Kedokteran Umum, Hospital: Siloam Hospitals TB Simatupang'), Document(metadata={'id': '38d3b2da-5a33-4009-af73-527359021380', 'name': 'dr. Christin Doko Rehi', 'specialization_name': 'Kedokteran Umum', 'sub_specialization_name': 'Dokter Umum', 'sub_specialization_name_en': 'General Practitioner', 'hospital_name': 'SILOAM CLINIC SOE', 'specialization_group': 'Kedokteran Umum', 'doctors_in_group': 126, '_id': 'f9f3e67e-5f9d-4400-a74a-682dee0916ac', '_collection_name': 'mcu_packages'}, page_content='Doctor: dr. Christin Doko Rehi, Specialization: Kedokteran Umum, Hospital: SILOAM CLINIC SOE'), Document(metadata={'id': '1989d942-f4a1-4fbb-9875-a8e02739e810', 'name': 'dr. Christine Margaretha', 'specialization_name': 'Kedokteran Umum', 'sub_specialization_name': 'Dokter Umum', 'sub_specialization_name_en': 'General Practitioner', 'hospital_name': 'Siloam Hospitals Agora Cempaka Putih', 'specialization_group': 'Kedokteran Umum', 'doctors_in_group': 126, '_id': 'c66e1ae5-939d-4192-8115-7b7cdac41a81', '_collection_name': 'mcu_packages'}, page_content='Doctor: dr. Christine Margaretha, Specialization: Kedokteran Umum, Hospital: Siloam Hospitals Agora Cempaka Putih'), Document(metadata={'id': 'c21115fb-8d49-4c34-ab4a-041bb6690a6c', 'name': 'dr. Christy Agustiyani', 'specialization_name': 'Kedokteran Umum', 'sub_specialization_name': 'Dokter Umum', 'sub_specialization_name_en': 'General Practitioner', 'hospital_name': 'Siloam Hospitals Denpasar', 'specialization_group': 'Kedokteran Umum', 'doctors_in_group': 126, '_id': '777f2835-79cd-4076-b909-4ae04070bf5d', '_collection_name': 'mcu_packages'}, page_content='Doctor: dr. Christy Agustiyani, Specialization: Kedokteran Umum, Hospital: Siloam Hospitals Denpasar')]\n"
     ]
    },
    {
     "data": {
      "text/plain": [
       "['Doctor: dr. Ade Rahmatdianto, Specialization: Kedokteran Umum, Hospital: Siloam Hospitals Surabaya',\n",
       " 'Doctor: dr. Cindy Mayury, Specialization: Kedokteran Umum, Hospital: Siloam Sriwijaya Palembang',\n",
       " 'Doctor: dr. Catherine, Specialization: Kedokteran Umum, Hospital: Siloam Hospitals Medan',\n",
       " 'Doctor: dr. Cathleen Kenya, Specialization: Kedokteran Umum, Hospital: MRCCC Siloam Hospitals Semanggi',\n",
       " 'Doctor: dr. Chow Joy Nathasa A , MH.Kes, Specialization: Kedokteran Umum, Hospital: Siloam Hospitals Putera Bahagia',\n",
       " 'Doctor: dr. Christian Hendrikus Sorongan, Specialization: Kedokteran Umum, Hospital: Siloam Hospitals Manado',\n",
       " 'Doctor: dr. Christina Valentin, Specialization: Kedokteran Umum, Hospital: Siloam Hospitals TB Simatupang',\n",
       " 'Doctor: dr. Christin Doko Rehi, Specialization: Kedokteran Umum, Hospital: SILOAM CLINIC SOE',\n",
       " 'Doctor: dr. Christine Margaretha, Specialization: Kedokteran Umum, Hospital: Siloam Hospitals Agora Cempaka Putih',\n",
       " 'Doctor: dr. Christy Agustiyani, Specialization: Kedokteran Umum, Hospital: Siloam Hospitals Denpasar']"
      ]
     },
     "execution_count": 80,
     "metadata": {},
     "output_type": "execute_result"
    }
   ],
   "source": [
    "search_doctor(\"gula darah, diabetes, paket medical check up, siloam\")"
   ]
  },
  {
   "cell_type": "markdown",
   "id": "16b0dc87",
   "metadata": {},
   "source": [
    "# Create Agent"
   ]
  },
  {
   "cell_type": "code",
   "execution_count": 81,
   "id": "a82d5c58",
   "metadata": {},
   "outputs": [],
   "source": [
    "# access the Google Gemini API\n",
    "from langchain_google_genai import ChatGoogleGenerativeAI\n",
    "from langchain_core.prompts import ChatPromptTemplate\n",
    "\n",
    "llm = ChatGoogleGenerativeAI(\n",
    "    model=\"gemini-2.0-flash\",\n",
    "    api_key=env.GOOGLE_API_KEY,\n",
    ")\n",
    "prompt = ChatPromptTemplate.from_messages(\n",
    "    [\n",
    "        (\"system\", \"You are a helpful assistant that provides information about Siloam hospitals.\"),\n",
    "        (\"human\", \"{question}\"),\n",
    "    ]\n",
    ")\n",
    "\n",
    "chain = prompt | llm"
   ]
  },
  {
   "cell_type": "code",
   "execution_count": 82,
   "id": "2944ec91",
   "metadata": {},
   "outputs": [
    {
     "data": {
      "text/plain": [
       "AIMessage(content='Di Siloam Hospitals, terdapat beberapa dokter spesialis yang dapat membantu menangani sakit kepala, tergantung pada penyebab dan jenis sakit kepala yang Anda alami. Berikut adalah beberapa pilihan dokter spesialis yang tersedia:\\n\\n1.  **Dokter Spesialis Saraf (Neurologi):** Dokter spesialis saraf adalah pilihan yang tepat jika sakit kepala Anda sering terjadi, sangat parah, atau disertai dengan gejala neurologis lainnya seperti gangguan penglihatan, kelemahan, atau mati rasa. Mereka dapat membantu mendiagnosis penyebab sakit kepala seperti migrain, sakit kepala tegang, atau masalah saraf lainnya.\\n2.  **Dokter Spesialis Penyakit Dalam:** Jika sakit kepala Anda terkait dengan kondisi medis umum seperti tekanan darah tinggi, infeksi, atau masalah metabolik, dokter spesialis penyakit dalam dapat membantu mengidentifikasi dan mengelola kondisi tersebut.\\n3.  **Dokter Spesialis Rehabilitasi Medik:** Jika sakit kepala Anda disebabkan oleh masalah otot atau postur tubuh yang buruk, dokter spesialis rehabilitasi medik dapat membantu dengan terapi fisik dan latihan untuk mengurangi ketegangan dan memperbaiki postur.\\n\\nUntuk menentukan dokter spesialis yang paling tepat untuk Anda, sebaiknya konsultasikan terlebih dahulu dengan dokter umum di Siloam Hospitals. Dokter umum dapat melakukan pemeriksaan awal dan memberikan rujukan ke dokter spesialis yang sesuai dengan kondisi Anda.\\n\\nAnda dapat mencari informasi lebih lanjut mengenai jadwal dokter dan membuat janji temu melalui:\\n\\n*   Situs web Siloam Hospitals: [https://www.siloamhospitals.com/](https://www.siloamhospitals.com/)\\n*   Aplikasi MySiloam\\n\\nSemoga informasi ini membantu dan Anda segera mendapatkan penanganan yang tepat!', additional_kwargs={}, response_metadata={'prompt_feedback': {'block_reason': 0, 'safety_ratings': []}, 'finish_reason': 'STOP', 'model_name': 'gemini-2.0-flash', 'safety_ratings': []}, id='run--6b1f3057-f779-4bf8-9b2a-975eacb3ea70-0', usage_metadata={'input_tokens': 26, 'output_tokens': 337, 'total_tokens': 363, 'input_token_details': {'cache_read': 0}})"
      ]
     },
     "execution_count": 82,
     "metadata": {},
     "output_type": "execute_result"
    }
   ],
   "source": [
    "chain.invoke({\"question\": \"Saya sakit kepala, ada dokter spesialis apa di Siloam?\"})"
   ]
  },
  {
   "cell_type": "markdown",
   "id": "b33894fe",
   "metadata": {},
   "source": [
    "# Workflow for agent to use tool"
   ]
  },
  {
   "cell_type": "code",
   "execution_count": 83,
   "id": "a130e36e",
   "metadata": {},
   "outputs": [],
   "source": [
    "from langgraph.graph import START, StateGraph\n",
    "from typing_extensions import List, TypedDict\n",
    "class State(TypedDict):\n",
    "    question: str\n",
    "    context: List[str]\n",
    "    search: str\n",
    "    answer: str"
   ]
  },
  {
   "cell_type": "code",
   "execution_count": 84,
   "id": "6fb95d8c",
   "metadata": {},
   "outputs": [],
   "source": [
    "def get_context(state: State):\n",
    "    prompt = ChatPromptTemplate.from_messages(\n",
    "        [\n",
    "            (\"system\", \"\"\"\n",
    "                You are an expert in Doctor selection.\n",
    "                You will provide keywords about the the disease or condition based on the question.\n",
    "                The keywords should be relevant to the disease or condition.\n",
    "                Do not provide any other information.\n",
    "                If the question already contains keywords, you can return them as is.\n",
    "                Only return one keyword and in english.\n",
    "            \"\"\"),\n",
    "            (\"human\", \"{question}\"),\n",
    "        ]\n",
    "    )\n",
    "    chain = prompt | llm\n",
    "    result = chain.invoke({\"question\": state[\"question\"]})\n",
    "    return {\"search\": result.content}"
   ]
  },
  {
   "cell_type": "code",
   "execution_count": 85,
   "id": "9261dd14",
   "metadata": {},
   "outputs": [],
   "source": [
    "def retrieve(state: State):\n",
    "    retrieved_docs = get_retriever().invoke(state[\"search\"], k=10)\n",
    "    return {\"context\": retrieved_docs}"
   ]
  },
  {
   "cell_type": "code",
   "execution_count": 86,
   "id": "42f675a5",
   "metadata": {},
   "outputs": [],
   "source": [
    "def generate(state: State):\n",
    "    prompt = ChatPromptTemplate.from_messages(\n",
    "        [\n",
    "            (\"system\", \"\"\"\n",
    "                You are an assistant that provides information about Doctor Selection at Siloam hospitals.\n",
    "                You will generate a response based on the context provided.\n",
    "                The response should be concise and relevant to the question asked.\n",
    "                package list knowledge: \n",
    "                {context}\n",
    "                If the context is empty, you can provide a general response about Doctor Selection.\n",
    "                Please always include related packages in your response.\n",
    "            \"\"\"),\n",
    "            (\"human\", \"{question}\"),\n",
    "        ]\n",
    "    )\n",
    "    chain = prompt | llm\n",
    "    result = chain.invoke({\"question\": state[\"question\"], \"context\": state[\"context\"]})\n",
    "    return {\"answer\": result.content}"
   ]
  },
  {
   "cell_type": "code",
   "execution_count": 87,
   "id": "da2b66d3",
   "metadata": {},
   "outputs": [],
   "source": [
    "graph_builder = StateGraph(State).add_sequence([get_context, retrieve, generate])\n",
    "graph_builder.add_edge(START, \"get_context\")\n",
    "graph = graph_builder.compile()"
   ]
  },
  {
   "cell_type": "code",
   "execution_count": 88,
   "id": "7059ffad",
   "metadata": {},
   "outputs": [
    {
     "name": "stdout",
     "output_type": "stream",
     "text": [
      "Saat ini tidak ada dokter spesialis Neurologi (Otak dan Sistem Saraf) yang tersedia di Siloam Hospitals Lippo Cikarang. Berikut ini dokter spesialis Neurologi (Otak dan Sistem Saraf) yang tersedia di Siloam Hospitals lainnya:\n",
      "- Dr. dr. Pricilla Yani Gunawan, Sp.N, Subspes.E.N.K (K), F.Neuroimaging-Neurosonology - Siloam Hospitals Lippo Village\n",
      "- Dr. dr. Vivien Puspitasari, Sp.N - Siloam Hospitals Lippo Village\n",
      "- Dr. dr. Rocksy Fransisca V Situmeang, Sp.N - Siloam Hospitals Lippo Village\n",
      "- dr. Evlyne Erlyana Suryawijaya, M.Biomed, SpN, F.NO-NOT - Siloam Hospitals Kelapa Dua\n",
      "- dr. Feliana, SpN - Siloam Hospitals Semarang\n",
      "- dr. Ekawati Dani, SpS - MRCCC Siloam Hospitals Semanggi\n",
      "- Dr. dr. Rini Andriani, SpN, Subsp.N-Onk(K) - MRCCC Siloam Hospitals Semanggi\n",
      "- dr. Fidiana, SpN (K) - Siloam Hospitals Surabaya\n",
      "- dr. Enseline Nikijuluw, SpS - Siloam Hospitals Ambon\n",
      "- dr. A. Zuljumadi Adma, SpN - Siloam Hospitals Buton\n"
     ]
    }
   ],
   "source": [
    "response = graph.invoke({\n",
    "\t\"question\": \"Saya sakit kepala, ada dokter spesialis apa di Siloam Hospitals Lippo Cikarang?\",\n",
    "\t\"context\": [],\n",
    "\t\"search\": \"\",\n",
    "\t\"answer\": \"\"\n",
    "})\n",
    "print(response[\"answer\"])"
   ]
  }
 ],
 "metadata": {
  "kernelspec": {
   "display_name": "PYEnv",
   "language": "python",
   "name": "python3"
  },
  "language_info": {
   "codemirror_mode": {
    "name": "ipython",
    "version": 3
   },
   "file_extension": ".py",
   "mimetype": "text/x-python",
   "name": "python",
   "nbconvert_exporter": "python",
   "pygments_lexer": "ipython3",
   "version": "3.12.3"
  }
 },
 "nbformat": 4,
 "nbformat_minor": 5
}
